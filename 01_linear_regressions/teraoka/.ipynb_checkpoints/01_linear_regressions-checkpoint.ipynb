{
 "cells": [
  {
   "cell_type": "markdown",
   "metadata": {},
   "source": [
    "# 解答"
   ]
  },
  {
   "cell_type": "markdown",
   "metadata": {},
   "source": [
    "# 単回帰分析"
   ]
  },
  {
   "cell_type": "markdown",
   "metadata": {},
   "source": [
    " ### Q1. 単回帰分析のモデル式を示し、その意味を説明せよ。\n",
    " ### A1."
   ]
  },
  {
   "cell_type": "markdown",
   "metadata": {},
   "source": [
    "モデル式\n",
    "<img src=\"images/単回帰.png\">"
   ]
  },
  {
   "cell_type": "markdown",
   "metadata": {},
   "source": [
    "**結論：**  \n",
    "上記式を用いて、現象を説明できると仮定して分析を行う。  \n",
    "\n",
    "**説明：**  \n",
    "aとbはデータから決定される。  \n",
    "Xは説明変数、Yは目的変数。  \n",
    "説明変数Xの値が増えるにつれて目的変数Yの値も一定に増加するような現象を表現することができる。"
   ]
  },
  {
   "cell_type": "markdown",
   "metadata": {},
   "source": [
    "<hr>"
   ]
  },
  {
   "cell_type": "markdown",
   "metadata": {},
   "source": [
    "### Q2. 単回帰分析が利用可能な例を具体的なデータと共に示せ。\n",
    "### A2."
   ]
  },
  {
   "cell_type": "markdown",
   "metadata": {},
   "source": [
    "単回帰分析では1つの目的変数に対して1つの説明変数を使い予測する。  \n",
    "予測するモデルは線形で表現できる。  \n",
    "具体例を身長と体重の関係で以下に示す。  \n",
    "\n",
    "平成30年度の総務省統計局の5歳～17歳までの男性データを参照する。  \n",
    "\n",
    "参照：https://www.e-stat.go.jp/stat-search/files?page=1&layout=datalist&toukei=00400002&tstat=000001011648&cycle=0&tclass1=000001020135&second2=1"
   ]
  },
  {
   "cell_type": "markdown",
   "metadata": {},
   "source": [
    "|年齢|平均身長(cm)|平均体重(kg)|\n",
    "|---|---|---|\n",
    "|5歳|110.3|18.9|\n",
    "|6歳|116.5|21.4|\n",
    "|7歳|122.5|24.1|\n",
    "|8歳|128.1|27.2|\n",
    "|9歳|133.7|30.7|\n",
    "|10歳|138.8|34.1|\n",
    "|11歳|145.2|38.4|\n",
    "|12歳|152.7|44.0|\n",
    "|13歳|159.8|48.8|\n",
    "|14歳|165.3|54.0|\n",
    "|15歳|168.4|58.6|\n",
    "|16歳|169.9|60.6|\n",
    "|17歳|170.6|62.4|"
   ]
  },
  {
   "cell_type": "markdown",
   "metadata": {},
   "source": [
    "以下のグラフに描画したデータ点から見て取れるのは、身長に応じて体重も増えている。  \n",
    "\n",
    "<img src=\"images/single_line.png\">"
   ]
  },
  {
   "cell_type": "markdown",
   "metadata": {},
   "source": [
    "<hr>"
   ]
  },
  {
   "cell_type": "markdown",
   "metadata": {},
   "source": [
    "### Q3. モデルの当てはまりの良さを示す指標について説明せよ。\n",
    "### A3. "
   ]
  },
  {
   "cell_type": "markdown",
   "metadata": {},
   "source": [
    "**結論：**  \n",
    "モデルの当てはまりの良さを表す指標の一つに決定係数がある。  \n",
    "決定係数と呼ばれる指標とは、\n",
    "\n",
    "- 1に近いほど、モデルは真の値に近い値を予測している。\n",
    "- 0に近いほど、モデルは真の値から遠い値を予測している。\n",
    "\n",
    "\n",
    "**説明：**  \n",
    "決定係数を求める式のうち2つを紹介する。  \n",
    "\n",
    "- 次の式では予測値の分散と真の値の分散に似ている割合を表現している。  \n",
    "    \n",
    "    下記式に対して、分子、分母それぞれへ n個で割ると  \n",
    "    分子は予測値の分散になり、分母は真の値の分散となる。  \n",
    "    \n",
    "    ゆえに、この式から求められる値は、予測値の分散が真の値の分散に  \n",
    "    似ている割合を示し、1に近い程、似ていると捉えられる事ができる。  \n",
    "    \n",
    "    式1：    \n",
    "<img src=\"images/決定係数1.png\">\n",
    "\n",
    "- 決定係数の求め方その２\n",
    "  \n",
    "    次の式では真の値の分散の大きさに対して、真の値と予測値の差の大きさの割合を表現している。  \n",
    "    割合が1に近ければ近いほど、モデルがデータに対し当てはまりが良いと言える。\n",
    "    \n",
    "    式2：\n",
    "<img src=\"images/決定係数2.png\">"
   ]
  },
  {
   "cell_type": "markdown",
   "metadata": {},
   "source": [
    "- 真の値と予測値との関係性をグラフで表示\n",
    "\n",
    "<img src=\"images/line.png\">"
   ]
  },
  {
   "cell_type": "markdown",
   "metadata": {},
   "source": [
    "# 重回帰分析"
   ]
  },
  {
   "cell_type": "markdown",
   "metadata": {},
   "source": [
    "### Q1. 重回帰分析のモデル式を示し、その意味を説明せよ。\n",
    "### A1."
   ]
  },
  {
   "cell_type": "markdown",
   "metadata": {},
   "source": [
    "モデル式\n",
    "<img src=\"images/重回帰.png\">\n",
    "\n",
    "\n",
    "**結論：**  \n",
    "上記式を用いて、現象を説明できると仮定して分析を行う。  \n",
    "\n",
    "**説明：**  \n",
    "aとbはデータから決定される。   \n",
    "Xは説明変数、Yは目的変数。  \n",
    "2変数以上の説明変数Xの値が増えるにつれて目的変数Yの値も一定に増加するような現象を表現することができる。"
   ]
  },
  {
   "cell_type": "markdown",
   "metadata": {},
   "source": [
    "<hr>"
   ]
  },
  {
   "cell_type": "markdown",
   "metadata": {},
   "source": [
    "### Q2. 重回帰分析が利用可能な例を具体的なデータと共に示せ。\n",
    "### A2."
   ]
  },
  {
   "cell_type": "markdown",
   "metadata": {},
   "source": [
    "重回帰分析では1つの目的変数に対して2つ以上の説明変数を使い予測する。  \n",
    "予測するモデルは線形で表現できる。  \n",
    "具体例を身長と胸囲と体重の関係で以下に示す。  \n",
    "\n",
    "平成６年度の学校保健統計調査の5歳～17歳までのデータを参照する。"
   ]
  },
  {
   "cell_type": "markdown",
   "metadata": {},
   "source": [
    "|年齢|平均身長(cm)|平均体重(kg)|平均胸囲(cm)|\n",
    "|---|---|---|---|\n",
    "|5歳|110.9|19.3|56.3|\n",
    "|6歳|116.8|21.6|58.0|\n",
    "|7歳|122.7|24.3|60.4|\n",
    "|8歳|128.1|27.3|62.8|\n",
    "|9歳|133.5|30.7|65.6|\n",
    "|10歳|138.9|34.2|68.1|\n",
    "|11歳|144.9|38.4|70.9|\n",
    "|12歳|152.0|44.0|74.2|\n",
    "|13歳|159.3|49.3|77.4|\n",
    "|14歳|165.1|54.6|80.8|\n",
    "|15歳|168.4|59.5|83.5|\n",
    "|16歳|170.1|61.5|85.2|\n",
    "|17歳|170.9|62.9|86.5|\n",
    "\n",
    "参考：https://www.e-stat.go.jp/stat-search/files?page=1&layout=datalist&toukei=00400002&tstat=000001011648&cycle=0&tclass1=000001039930&tclass2=000001039934\n",
    "\n",
    "- 以下のグラフの描画点から見てとれることは、身長(X軸)と胸囲(Z軸)が増えるにつれ体重(Y軸)が増えていることが分かる。\n",
    "\n",
    "<img src=\"images/IMG_1636.JPG\">"
   ]
  },
  {
   "cell_type": "markdown",
   "metadata": {},
   "source": [
    "<hr>"
   ]
  },
  {
   "cell_type": "markdown",
   "metadata": {},
   "source": [
    "### Q3. モデルの当てはまりの良さを示す指標について説明せよ。\n",
    "### A3. "
   ]
  },
  {
   "cell_type": "markdown",
   "metadata": {},
   "source": [
    "**結論：**  \n",
    "モデルの当てはまりの良さを表す指標の一つに決定係数がある。  \n",
    "決定係数と呼ばれる指標とは、\n",
    "\n",
    "- 1に近いほど、モデルは真の値に近い値を予測している。\n",
    "- 0に近いほど、モデルは真の値から遠い値を予測している。\n",
    "\n",
    "\n",
    "**説明：**  \n",
    "決定係数を求める式のうち2つを紹介する。  \n",
    "\n",
    "- 次の式では予測値の分散と真の値の分散に似ている割合を表現している。  \n",
    "    \n",
    "    下記式に対して、分子、分母それぞれへ n個で割ると  \n",
    "    分子は予測値の分散になり、分母は真の値の分散となる。  \n",
    "    \n",
    "    ゆえに、この式から求められる値は、予測値の分散が真の値の分散に  \n",
    "    似ている割合を示し、1に近い程、似ていると捉えられる事ができる。  \n",
    "    \n",
    "    式1：    \n",
    "<img src=\"images/決定係数1.png\">\n",
    "\n",
    "- 決定係数の求め方その２\n",
    "  \n",
    "    次の式では真の値の分散の大きさに対して、真の値と予測値の差の大きさの割合を表現している。  \n",
    "    割合が1に近ければ近いほど、モデルがデータに対し当てはまりが良いと言える。\n",
    "    \n",
    "    式2：\n",
    "<img src=\"images/決定係数2.png\">"
   ]
  },
  {
   "cell_type": "markdown",
   "metadata": {},
   "source": [
    "<hr>"
   ]
  },
  {
   "cell_type": "markdown",
   "metadata": {},
   "source": [
    "### Q4. 重回帰分析において、説明変数の数を増やすメリットとデメリットを具体例を用いて説明せよ。\n",
    "### A4."
   ]
  },
  {
   "cell_type": "markdown",
   "metadata": {},
   "source": [
    "### メリット    \n",
    "**結論：**  \n",
    "単回帰分析は1変数で目的変数を説明する事に対して、  \n",
    "重回帰分析は2変数以上から目的変数を説明する為、予測の精度が上がる。  \n",
    "\n",
    "**説明：**  \n",
    "具体例として以下の身長と胸囲を使い体重を予測させる。  \n",
    "\n",
    "|年齢|平均体重(kg)|平均身長(cm)|平均胸囲(cm)|\n",
    "|---|---|---|---|\n",
    "|5歳|18.9|110.3|56.3|\n",
    "|6歳|21.4|116.5|58.0|\n",
    "|7歳|24.1|122.5|60.4|\n",
    "\n",
    "単回帰分析では身長のみを説明変数に使い体重を予測させる。  \n",
    "単回帰分析の問題に用いたモデル式に順じてパラメータを最小二乗法で求める。  \n",
    "\n",
    "単回帰モデルでの最小二乗法  \n",
    "<img src=\"images/単回帰最小二乗法.png\">\n",
    "\n",
    "【計算結果】  \n",
    "a = 0.4261  \n",
    "b = -28.14  \n",
    "\n",
    "<img src=\"images/単回帰計算.png\">  \n",
    "\n",
    "上記式を用いて予測値を計算する。  \n",
    "さらに、予測値を用いて決定係数を計算する。  \n",
    "単回帰モデルでの決定係数は、**1.037828**となる。  \n",
    "---------------------------------------------------------------------\n",
    "\n",
    "続いて、重回帰分析は身長と胸囲を説明変数に使い体重を予測させる。  \n",
    "重回帰分析の問題に用いたモデル式に順じてパラメータを最小二乗法で求める。  \n",
    "\n",
    "重回帰モデルでの最小二乗法  \n",
    "<img src=\"images/重回帰最小二乗法.png\">\n",
    "\n",
    "【計算結果】  \n",
    "a_1 = 0.3151  \n",
    "a_2 = 0.3311  \n",
    "b = -34.5  \n",
    "\n",
    "<img src=\"images/重回帰計算.png\">\n",
    "\n",
    "上記式を用いて予測値を計算する。  \n",
    "さらに、予測値を用いて決定係数を計算する。  \n",
    "重回帰モデルでの決定係数は、**1.00063556**となる。  \n",
    "-------------------------------------------------------------------------\n",
    "ゆえに、重回帰モデルでの決定係数の方がより1に近いことがわかる。  \n",
    "\n",
    "### デメリット  \n",
    "重回帰分析では説明変数が多いとモデルはトレーニングデータへの当てはまりの精度を上げる。  \n",
    "しかし、トレーニングデータに対して精度を上げすぎた場合、テストデータへの精度が下がる。  \n",
    "これをオーバーフィッティングという。  "
   ]
  },
  {
   "cell_type": "markdown",
   "metadata": {},
   "source": [
    "<hr>"
   ]
  },
  {
   "cell_type": "markdown",
   "metadata": {},
   "source": [
    "### Q5. 重回帰分析において、モデルの説明変数の係数の絶対値が大きいと、どのようなことが言えるのか。<br>具体例を用いて説明せよ。\n",
    "### A5."
   ]
  },
  {
   "cell_type": "markdown",
   "metadata": {},
   "source": [
    "上記問題の重回帰モデル係数を求めた結果式を引用する。  \n",
    "<img src=\"images/重回帰計算.png\">\n",
    "\n",
    "この式から、説明変数x_1,x_2に掛かる係数の絶対値は大きければ大きいほど、  \n",
    "それぞれの説明変数の絶対値は大きくなる。  \n",
    "\n",
    "説明変数の絶対値が大きければ、モデル式での影響力が大きくなる。  \n",
    "つまり、係数がモデル式の調整項になる。  "
   ]
  },
  {
   "cell_type": "markdown",
   "metadata": {},
   "source": [
    "<hr>"
   ]
  },
  {
   "cell_type": "markdown",
   "metadata": {},
   "source": [
    "### Q6. ステップワイズ法について説明せよ。\n",
    "### A6."
   ]
  },
  {
   "cell_type": "markdown",
   "metadata": {},
   "source": [
    "**結論：**  \n",
    "重回帰分析を行う際、説明変数同士に強い相関がある場合に多重共線性を起こす。  \n",
    "ステップワイズ法を使い、不要で冗長な説明変数をデータから除去させる。  \n",
    "\n",
    "**説明：**  \n",
    "選択の方法としては、最初にデータの中から説明変数で最も有用な1個を採用する。  \n",
    "次に、まだ採用されていない説明変数の中から最も有用な1個を採用する。  \n",
    "最初に採用された説明変数も後から採用される説明変数との関係で不要であれば除去する。  \n",
    "\n",
    "\n",
    "引用：  \n",
    "https://www.weblio.jp/content/%E3%82%B9%E3%83%86%E3%83%83%E3%83%97%E3%83%AF%E3%82%A4%E3%82%BA%E5%A4%89%E6%95%B0%E9%81%B8%E6%8A%9E"
   ]
  },
  {
   "cell_type": "markdown",
   "metadata": {},
   "source": [
    "<hr>"
   ]
  },
  {
   "cell_type": "markdown",
   "metadata": {},
   "source": [
    "# Lasso 回帰と Ridge 回帰"
   ]
  },
  {
   "cell_type": "markdown",
   "metadata": {},
   "source": [
    "### Q1. Lasso 回帰と Ridge 回帰におけるペナルティ項の効果について説明せよ。\n",
    "### A1. "
   ]
  },
  {
   "cell_type": "markdown",
   "metadata": {},
   "source": [
    "Lasso回帰とRidge回帰は正則化の手法の一つ  \n",
    "正則化はモデルのパラメータの学習に使われ、特に過学習を防ぎ、汎用性を高める。  \n",
    "\n",
    "\n",
    "### Lasso回帰におけるペナルティ項の効果\n",
    "\n",
    "**結論：**  \n",
    "誤差関数と評価関数の値を減らしつつ、説明変数の数も減らす効果がある。  \n",
    "\n",
    "**説明：**  \n",
    "\n",
    "<img src=\"images/lasso.png\">  \n",
    "\n",
    "上記式では誤差関数とパラメータの値を評価する関数にが使われる。\n",
    "\n",
    "パラメータの評価関数ではパラメータwは絶対値をとる。  \n",
    "パラメータwの偏微分は1となり、パラメータ更新での影響力が一定で更新される。  \n",
    "\n",
    "パラメータが一定間隔で更新すると、収束も一定間隔となり最終的に値は0になる。  \n",
    "パラメータが0になると該当する説明変数も0になることから説明変数を減らす効果がある。  \n",
    "\n",
    "尚、評価関数で使われているλの値を大きくすると評価関数の影響度が上がる。   \n",
    "評価関数と誤差関数を比べた時に、評価関数の優先度が上がる。  \n",
    "評価関数の優先度が上がることは、パラメータの数を減らす優先度が上がることを意味する。  \n",
    "反対にλの値を小さくすると誤差を小さくする優先度が上がる。  \n",
    "\n",
    "\n",
    "### Ridge回帰におけるペナルティ項の効果\n",
    "\n",
    "**結論：**\n",
    "誤差関数と評価関数の値を減らしつつ、説明変数の係数の大きさに応じて滑らかに小さくさせる。  \n",
    "\n",
    "<img src=\"images/ridge.png\">\n",
    "\n",
    "Lasso回帰と同様に考える。  \n",
    "Ridge回帰の違いは評価関数のパラメータwの値を2乗する。  \n",
    "パラメータw^2を偏微分すると2wになりパラメータw自身は残る。  \n",
    "\n",
    "パラメータwの更新時には最初大きく値を更新させる。  \n",
    "パラメータwは段々と値は小さくなる為、一定間隔ではない。    \n",
    "徐々にパラメータwの値が小さくなることは与える影響力も小さくなる。  \n",
    "\n",
    "ゆえに、Ridge回帰でパラメータwの更新では徐々に真の値と予測値の誤差が小さくなるが、  \n",
    "どこまでいっても0への収束はしない。  \n",
    "\n",
    "引用：https://ja.wikipedia.org/wiki/%E6%AD%A3%E5%89%87%E5%8C%96"
   ]
  },
  {
   "cell_type": "markdown",
   "metadata": {},
   "source": [
    "<hr>"
   ]
  },
  {
   "cell_type": "markdown",
   "metadata": {},
   "source": [
    "# プログラミング課題"
   ]
  },
  {
   "cell_type": "markdown",
   "metadata": {},
   "source": [
    "### Q. 下記 URL にあるプログラム例の動作を確認し、1行1行についてコメントを入れ、説明せよ。\n",
    "\n",
    "### また、それぞれの例で著者が一体何を説明したかったのかを簡潔にまとめよ。\n",
    "\n",
    "## A. Linear Regression Exampleについて"
   ]
  },
  {
   "cell_type": "code",
   "execution_count": 19,
   "metadata": {},
   "outputs": [
    {
     "name": "stdout",
     "output_type": "stream",
     "text": [
      "\n",
      "Linear Regression Example\n",
      "\n",
      "Coefficients: \n",
      " [938.23786125]\n",
      "Mean squared error: 2548.07\n",
      "Variance score: 0.47\n"
     ]
    },
    {
     "data": {
      "image/png": "[encoded data removed]",
      "text/plain": [
       "<Figure size 432x288 with 1 Axes>"
      ]
     },
     "metadata": {},
     "output_type": "display_data"
    },
    {
     "name": "stdout",
     "output_type": "stream",
     "text": [
      "単回帰の係数a： 938.2378612512637\n",
      "単回帰の切片b： 152.91886182616167\n",
      "説明変数X： [[ 0.07786339]\n",
      " [-0.03961813]\n",
      " [ 0.01103904]\n",
      " [-0.04069594]\n",
      " [-0.03422907]\n",
      " [ 0.00564998]\n",
      " [ 0.08864151]\n",
      " [-0.03315126]\n",
      " [-0.05686312]\n",
      " [-0.03099563]\n",
      " [ 0.05522933]\n",
      " [-0.06009656]\n",
      " [ 0.00133873]\n",
      " [-0.02345095]\n",
      " [-0.07410811]\n",
      " [ 0.01966154]\n",
      " [-0.01590626]\n",
      " [-0.01590626]\n",
      " [ 0.03906215]\n",
      " [-0.0730303 ]]\n",
      "予測値Y'： [225.9732401  115.74763374 163.27610621 114.73638965 120.80385422\n",
      " 158.21988574 236.08568105 121.81509832  99.56772822 123.83758651\n",
      " 204.73711411  96.53399594 154.17490936 130.91629517  83.3878227\n",
      " 171.36605897 137.99500384 137.99500384 189.56845268  84.3990668 ]\n"
     ]
    }
   ],
   "source": [
    "\"\"\"\n",
    "Linear Regression Example\n",
    "\"\"\"\n",
    "\n",
    "print(__doc__)  # __doc__を使うと、各クラスやメソッドの概要を閲覧出来る\n",
    "\n",
    "\n",
    "# Code source: Jaques Grobler\n",
    "# License: BSD 3 clause\n",
    "\n",
    "\n",
    "import matplotlib.pyplot as plt  # matplotlib.pyplotモジュールを読み込む\n",
    "import numpy as np  # numpyを読み込む\n",
    "from sklearn import datasets, linear_model  # sklearnを読み込む\n",
    "from sklearn.metrics import mean_squared_error, r2_score  # sklearn.metricsを読み込む\n",
    "# 以下 jupyter へ表示用\n",
    "%matplotlib inline  \n",
    "np.set_printoptions(threshold=100)\n",
    "# Load the diabetes dataset\n",
    "diabetes = datasets.load_diabetes()  #  sklearnのdatasetsを読み込む\n",
    "\n",
    "\n",
    "# Use only one feature\n",
    "diabetes_X = diabetes.data[:, np.newaxis, 2]  # datasetsのdict['data']を取り出し、次元数を追加\n",
    "# Split the data into training/testing sets\n",
    "diabetes_X_train = diabetes_X[:-20]  # トレーニング用に、学習データを配列の先頭から末尾から数えて20番目までのデータ取得\n",
    "\n",
    "diabetes_X_test = diabetes_X[-20:]  # テスト用に、学習データを配列の末尾から先頭から数えて20番目までのデータ取得\n",
    "\n",
    "# Split the targets into training/testing sets\n",
    "diabetes_y_train = diabetes.target[:-20]  # トレーニング用にdatasetに入っている正解ラベルデータを配列の先頭から末尾から数えて20番目までのデータ取得\n",
    "diabetes_y_test = diabetes.target[-20:]  # テスト用に、datasetに入っている正解ラベルデータを配列の末尾から先頭から数えて20番目までのデータ取得\n",
    "\n",
    "# Create linear regression object\n",
    "regr = linear_model.LinearRegression()  # 線形回帰モデルのインスタンスを作る\n",
    "\n",
    "# Train the model using the training sets\n",
    "regr.fit(diabetes_X_train, diabetes_y_train)  # 作成したモデルインスタンスに対して学習を実行する\n",
    "\n",
    "\n",
    "# Make predictions using the testing set\n",
    "diabetes_y_pred = regr.predict(diabetes_X_test)  # 学習済みのモデルインスタンスに対してトレーニング(検証)を行い、結果を変数へ渡す\n",
    "\n",
    "# The coefficients\n",
    "print('Coefficients: \\n', regr.coef_)  # 重みなどの係数を出力\n",
    "# The mean squared error\n",
    "print(\"Mean squared error: %.2f\"\n",
    "       % mean_squared_error(diabetes_y_test, diabetes_y_pred))  # 二乗平均誤差を出力\n",
    "# Explained variance score: 1 is perfect prediction\n",
    "print('Variance score: %.2f' % r2_score(diabetes_y_test, diabetes_y_pred))  # 決定係数(当てはまりの良さ)を表示\n",
    "\n",
    "# Plot outputs\n",
    "plt.scatter(diabetes_X_test, diabetes_y_test,  color='black')  # テスト用のデータをscatter表示\n",
    "plt.plot(diabetes_X_test, diabetes_y_pred, color='blue', linewidth=3)  # トレーニング結果を回帰直線で表示させている\n",
    "\n",
    "plt.xticks(())\n",
    "plt.yticks(())\n",
    "plt.show()\n",
    "\n",
    "# 以下追加表示\n",
    "print(\"単回帰の係数a：\", regr.coef_[0])\n",
    "print(\"単回帰の切片b：\", regr.intercept_)\n",
    "print(\"説明変数X：\", diabetes_X_test)\n",
    "print(\"予測値Y'：\", diabetes_y_pred)"
   ]
  },
  {
   "cell_type": "markdown",
   "metadata": {},
   "source": [
    "## Linear Regression Exampleについて著者が説明したかったこと\n",
    "\n",
    "**結論：**  \n",
    "データに対して線形のモデル式を用いて表現している。  \n",
    "単回帰モデル式の係数a：**938.2378612512637**を表示。  \n",
    "データに対して単回帰モデル式の当てはまりの良さを表す指標の一つ決定係数：**0.47**を表示。  \n",
    "データに対して単回帰モデル式の二乗平均誤差：**2548.07**を表示。  \n",
    "\n",
    "以上から、単回帰モデルの当てはまりの良さは余り良くない結果となる。  "
   ]
  },
  {
   "cell_type": "markdown",
   "metadata": {},
   "source": [
    "<hr>"
   ]
  },
  {
   "cell_type": "markdown",
   "metadata": {},
   "source": [
    "## A. Underfitting vs. Overfittingについて"
   ]
  },
  {
   "cell_type": "code",
   "execution_count": 2,
   "metadata": {},
   "outputs": [
    {
     "name": "stdout",
     "output_type": "stream",
     "text": [
      "\n",
      "Underfitting vs. Overfitting\n",
      "\n"
     ]
    },
    {
     "data": {
      "image/png": "[encoded data removed]",
      "text/plain": [
       "<Figure size 1008x360 with 3 Axes>"
      ]
     },
     "metadata": {},
     "output_type": "display_data"
    }
   ],
   "source": [
    "\"\"\"\n",
    "Underfitting vs. Overfitting\n",
    "\"\"\"\n",
    "print(__doc__) # __doc__を使うと、各クラスやメソッドの概要を閲覧出来る\n",
    "\n",
    "import numpy as np  # numpyモジュールを読み込む\n",
    "import matplotlib.pyplot as plt  # matplotlib.pyplotモジュールを読み込む\n",
    "from sklearn.pipeline import Pipeline  # sklearn.pipelineモジュールを読み込む\n",
    "from sklearn.preprocessing import PolynomialFeatures  # sklearn.preprocessingモジュールを読み込む\n",
    "from sklearn.linear_model import LinearRegression  # sklearn.linear_modelモジュールを読み込む\n",
    "from sklearn.model_selection import cross_val_score  # sklearn.model_selectionモジュールを読み込む\n",
    "\n",
    "\n",
    "def true_fun(X):\n",
    "    \"\"\"\n",
    "    コサイン関数を実行\n",
    "    \"\"\"\n",
    "    return np.cos(1.5 * np.pi * X)\n",
    "\n",
    "np.random.seed(0)  # ランダム値のタネを生成\n",
    "\n",
    "n_samples = 30  # サンプル数\n",
    "degrees = [1, 4, 15]  # 多項式に使われる次元数\n",
    "\n",
    "X = np.sort(np.random.rand(n_samples))  # 30個のランダム値をソートして学習データとする\n",
    "y = true_fun(X) + np.random.randn(n_samples) * 0.1  # 30個のランダム値に0.1を掛けて、ランダム値の余弦関数を求めた値で足したものを正解データとする\n",
    "\n",
    "plt.figure(figsize=(14, 5))  # 表示域のサイズ\n",
    "for i in range(len(degrees)):  # plt.subplot(行数, 列数, 何番目のプロットか)用の値をセット\n",
    "    ax = plt.subplot(1, len(degrees), i + 1)\n",
    "    plt.setp(ax, xticks=(), yticks=())\n",
    "\n",
    "    polynomial_features = PolynomialFeatures(degree=degrees[i],  # 多項式特徴量として[1次元、4次元、15次元]を用意\n",
    "                                             include_bias=False)\n",
    "    linear_regression = LinearRegression()  # 回帰分析モデルのインスタンスを生成\n",
    "    pipeline = Pipeline([(\"polynomial_features\", polynomial_features),  #  pipelineを使い、特徴量と回帰分析モデルインスタンスを繋ぐ\n",
    "                         (\"linear_regression\", linear_regression)])\n",
    "    pipeline.fit(X[:, np.newaxis], y) # 学習させる\n",
    "\n",
    "    # Evaluate the models using crossvalidation\n",
    "    scores = cross_val_score(pipeline, X[:, np.newaxis], y,  # クロスバリデーションによってモデルの精度を出力\n",
    "                             scoring=\"neg_mean_squared_error\", cv=10)\n",
    "\n",
    "    X_test = np.linspace(0, 1, 100)  # 0 ~ 1までの値を100個用意\n",
    "    plt.plot(X_test, pipeline.predict(X_test[:, np.newaxis]), label=\"Model\")  # テスト(検証)実行\n",
    "    plt.plot(X_test, true_fun(X_test), label=\"True function\")  # 正解データの回帰線表示?\n",
    "    plt.scatter(X, y, edgecolor='b', s=20, label=\"Samples\")  # scatterでデータ点を表示\n",
    "    plt.xlabel(\"x\")  # xラベル\n",
    "    plt.ylabel(\"y\")  # yラベル\n",
    "    plt.xlim((0, 1))  # x軸のメモリ \n",
    "    plt.ylim((-2, 2))  # y軸のメモリ\n",
    "    plt.legend(loc=\"best\")  # 凡例の枠を表示\n",
    "    plt.title(\"Degree {}\\nMSE = {:.2e}(+/- {:.2e})\".format(  # タイトル表示\n",
    "        degrees[i], -scores.mean(), scores.std()))\n",
    "plt.show()\n"
   ]
  },
  {
   "cell_type": "markdown",
   "metadata": {},
   "source": [
    "## Underfitting vs. Overfitting について著者が説明したかったこと\n",
    "\n",
    "**結論：**  \n",
    "説明変数の数に応じてデータに対してのモデルの当てはまりをグラフで表現させている。  \n",
    "結果は以下。  \n",
    "- 説明変数が1個の場合、データに対してモデルの当てはまり精度は全く良くない。  \n",
    "- 説明変数が4個の場合、データに対して当てはまり精度は良くなっている。   \n",
    "- 説明変数が15個の場合、モデルはトレーニングデータに対してオーバーフィッティングを起こしている。  \n",
    "\n",
    "以上から、  \n",
    "説明変数の数が多くなればなるほどモデルはトレーニングデータに対して当てはまり精度は良くなる。  \n",
    "しかし、説明変数の数が多くなりすぎるとオーバーフィッティングを起こす事になる。"
   ]
  },
  {
   "cell_type": "markdown",
   "metadata": {},
   "source": [
    "<hr>"
   ]
  },
  {
   "cell_type": "markdown",
   "metadata": {},
   "source": [
    "## A. Ordinary Least Squares and Ridge Regression Varianceについて"
   ]
  },
  {
   "cell_type": "code",
   "execution_count": 3,
   "metadata": {},
   "outputs": [
    {
     "name": "stdout",
     "output_type": "stream",
     "text": [
      "\n",
      "Ordinary Least Squares and Ridge Regression Variance\n",
      "\n"
     ]
    },
    {
     "data": {
      "image/png": "[encoded data removed]",
      "text/plain": [
       "<Figure size 288x216 with 1 Axes>"
      ]
     },
     "metadata": {
      "needs_background": "light"
     },
     "output_type": "display_data"
    },
    {
     "data": {
      "image/png": "[encoded data removed]",
      "text/plain": [
       "<Figure size 288x216 with 1 Axes>"
      ]
     },
     "metadata": {
      "needs_background": "light"
     },
     "output_type": "display_data"
    }
   ],
   "source": [
    "\"\"\"\n",
    "Ordinary Least Squares and Ridge Regression Variance\n",
    "\"\"\"\n",
    "print(__doc__)  # __doc__を使うと、各クラスやメソッドの概要を閲覧出来る\n",
    "\n",
    "\n",
    "# Code source: Gaël Varoquaux\n",
    "# Modified for documentation by Jaques Grobler\n",
    "# License: BSD 3 clause\n",
    "\n",
    "\n",
    "import numpy as np  # numpyモジュールを読み込む\n",
    "import matplotlib.pyplot as plt  # matplotlib.pyplotモジュールを読み込む\n",
    "\n",
    "from sklearn import linear_model  # sklearnを読み込む\n",
    "\n",
    "X_train = np.c_[.5, 1].T  # array型にしてトレーニング用二次元の学習データを用意\n",
    "y_train = [.5, 1]  # トレーニング用正解データ\n",
    "X_test = np.c_[0, 2].T  # array型にしてテスト用学習データ\n",
    "\n",
    "np.random.seed(0)  # ランダム値の種を用意\n",
    "\n",
    "classifiers = dict(ols=linear_model.LinearRegression(),  # dictionaryで回帰分析モデルインスタンスとRidge回帰分析モデルインスタンスを用意\n",
    "                   ridge=linear_model.Ridge(alpha=.1))\n",
    "\n",
    "for name, clf in classifiers.items():   # 2つのモデルインスタンスを\n",
    "    fig, ax = plt.subplots(figsize=(4, 3))  # plt.subplot(figsize=(縦、横)大きさ)値をセット\n",
    "\n",
    "    for _ in range(6):\n",
    "        this_X = .1 * np.random.normal(size=(2, 1)) + X_train  # 0.1 x 平均2、分散1の正規分布に従う乱数にトレーニングデータを足し、学習データを生成\n",
    "        clf.fit(this_X, y_train)  # 乱数データで学習\n",
    "\n",
    "        ax.plot(X_test, clf.predict(X_test), color='gray')  # テスト(検証)して表示(6個分)\n",
    "        ax.scatter(this_X, y_train, s=3, c='gray', marker='o', zorder=10)  # 検証に使った点を表示\n",
    "\n",
    "    clf.fit(X_train, y_train)  # トレーニング用データで学習\n",
    "    ax.plot(X_test, clf.predict(X_test), linewidth=2, color='blue')  #  テスト(検証)して表示(1個)\n",
    "    ax.scatter(X_train, y_train, s=30, c='red', marker='+', zorder=10) # 検証に使った点を表示\n",
    "\n",
    "    ax.set_title(name) # タイトルセット\n",
    "    ax.set_xlim(0, 2)  # x軸のメモリ \n",
    "    ax.set_ylim((0, 1.6)) # y軸のメモリ \n",
    "    ax.set_xlabel('X') # x軸のラベル\n",
    "    ax.set_ylabel('y') # y軸のラベル \n",
    "\n",
    "    fig.tight_layout()  # グラフ同士のラベルが重ならないようになる\n",
    "\n",
    "plt.show()"
   ]
  },
  {
   "cell_type": "markdown",
   "metadata": {},
   "source": [
    "## Ordinary Least Squares and Ridge Regression Varianceについて著者が説明したかったこと\n",
    "\n",
    "**結論：**  \n",
    "評価関数を使わない単回帰モデルとRidge回帰モデルを表示させている。  \n",
    "以下の結果になる。  \n",
    "**評価関数を使わない単回帰モデルの場合**  \n",
    "- 説明変数の数が変動するに応じて予測値は大きく変動している。  \n",
    "- 説明変数が多くなりすぎるとトレーニングデータに対して過学習がおきている。  \n",
    "\n",
    "**Ridge回帰モデルの場合**  \n",
    "- 説明変数の数が変動しても予測値は大きなズレが起きていない。  \n",
    "- 説明変数の数が多くなりすぎてもトレーニングデータに対してオーバーフィッティングは起きていない。\n",
    "\n",
    "以上から、  \n",
    "Ridge回帰を使えば、説明変数の数が多い場合にも重回帰モデルの汎用性が高いことが分かる。  "
   ]
  },
  {
   "cell_type": "code",
   "execution_count": null,
   "metadata": {},
   "outputs": [],
   "source": []
  }
 ],
 "metadata": {
  "kernelspec": {
   "display_name": "Python 3",
   "language": "python",
   "name": "python3"
  },
  "language_info": {
   "codemirror_mode": {
    "name": "ipython",
    "version": 3
   },
   "file_extension": ".py",
   "mimetype": "text/x-python",
   "name": "python",
   "nbconvert_exporter": "python",
   "pygments_lexer": "ipython3",
   "version": "3.6.6"
  }
 },
 "nbformat": 4,
 "nbformat_minor": 2
}
