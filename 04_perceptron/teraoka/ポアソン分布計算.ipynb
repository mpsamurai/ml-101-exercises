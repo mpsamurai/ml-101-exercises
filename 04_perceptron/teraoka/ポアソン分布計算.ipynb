{
 "cells": [
  {
   "cell_type": "code",
   "execution_count": 46,
   "metadata": {},
   "outputs": [],
   "source": [
    "from numpy.random import *\n",
    "import pandas as pd\n",
    "import numpy as np\n",
    "import matplotlib.pyplot as plt\n",
    "\n",
    "lamb = 0.1\n",
    "\n",
    "# ちょうど7人来る確率を計算したいので、k=7です。\n",
    "# k=7\n",
    "\n",
    "# 標準mathモジュールから、必要なモノをインポート\n",
    "from math import exp\n",
    "from math import factorial\n",
    "\n",
    "\n",
    "# 確率質量関数をつかって確率を計算します。\n",
    "prob_list = []\n",
    "for k in range(10):\n",
    "    prob_list.append((lamb**k)*exp(-lamb)/factorial(k))"
   ]
  },
  {
   "cell_type": "code",
   "execution_count": 47,
   "metadata": {},
   "outputs": [
    {
     "data": {
      "text/plain": [
       "[0.9048374180359595,\n",
       " 0.09048374180359596,\n",
       " 0.004524187090179798,\n",
       " 0.00015080623633932663,\n",
       " 3.7701559084831654e-06,\n",
       " 7.540311816966331e-08,\n",
       " 1.2567186361610553e-09,\n",
       " 1.795312337372936e-11,\n",
       " 2.2441404217161707e-13,\n",
       " 2.493489357462412e-15]"
      ]
     },
     "execution_count": 47,
     "metadata": {},
     "output_type": "execute_result"
    }
   ],
   "source": [
    "prob_list"
   ]
  },
  {
   "cell_type": "code",
   "execution_count": 48,
   "metadata": {},
   "outputs": [
    {
     "data": {
      "image/png": "[encoded data removed]",
      "text/plain": [
       "<Figure size 432x288 with 1 Axes>"
      ]
     },
     "metadata": {
      "needs_background": "light"
     },
     "output_type": "display_data"
    }
   ],
   "source": [
    "# x = np.arange(-1.2, 1.2, 0.1)\n",
    "# y = 1.5*x**2\n",
    "# k = [1,2,3,4,5,6,7,8,9,10,11,12,13,14,15,16,17,18,19,20]\n",
    "k = range(10)\n",
    "plt.plot(k,prob_list)\n",
    "plt.scatter(k,prob_list, color=\"red\")\n",
    "\n",
    "# plt.ylim(-2,2)\n",
    "plt.show()"
   ]
  },
  {
   "cell_type": "code",
   "execution_count": null,
   "metadata": {},
   "outputs": [],
   "source": []
  }
 ],
 "metadata": {
  "kernelspec": {
   "display_name": "Python 3",
   "language": "python",
   "name": "python3"
  },
  "language_info": {
   "codemirror_mode": {
    "name": "ipython",
    "version": 3
   },
   "file_extension": ".py",
   "mimetype": "text/x-python",
   "name": "python",
   "nbconvert_exporter": "python",
   "pygments_lexer": "ipython3",
   "version": "3.6.6"
  }
 },
 "nbformat": 4,
 "nbformat_minor": 2
}
