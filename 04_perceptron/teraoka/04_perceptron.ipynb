{
 "cells": [
  {
   "cell_type": "markdown",
   "metadata": {},
   "source": [
    "# 04_perceptron"
   ]
  },
  {
   "cell_type": "markdown",
   "metadata": {},
   "source": [
    "# Q1. Logistic Sigomid について調べ説明せよ。"
   ]
  },
  {
   "cell_type": "markdown",
   "metadata": {},
   "source": [
    "# A1. "
   ]
  },
  {
   "cell_type": "markdown",
   "metadata": {},
   "source": [
    "シグモイド関数は以下の式で表される。  \n",
    "<img src=\"images/sigmid.png\">"
   ]
  },
  {
   "cell_type": "code",
   "execution_count": 32,
   "metadata": {},
   "outputs": [
    {
     "data": {
      "image/png": "[encoded data removed]",
      "text/plain": [
       "<Figure size 432x288 with 1 Axes>"
      ]
     },
     "metadata": {
      "needs_background": "light"
     },
     "output_type": "display_data"
    }
   ],
   "source": [
    "import matplotlib.pyplot as plt\n",
    "import numpy as np\n",
    "import math\n",
    "\n",
    "\n",
    "x = np.arange(-10, 10, 0.1)  # -10 ~ 10まで0.1刻み\n",
    "e = math.e  # 自然対数 \n",
    "y = 1 / (1 + e**-x)  # シグモイド関数\n",
    "\n",
    "plt.plot(x, y)\n",
    "plt.show()"
   ]
  },
  {
   "cell_type": "markdown",
   "metadata": {},
   "source": [
    "- 標準シグモイド関数は a=1 を代入して表す。  \n",
    "- シグモイド関数式の eは自然対数である。\n",
    "- シグモイド関数の性質は、0から1の単調増加関数で1つの変曲点を持つ。  \n",
    "- 単調増加関数とは、値の変化が一定に増加する連続関数である。  \n",
    "- 変曲点とは、曲線の曲がる方向が変わる点である。  \n",
    "\n",
    "引用：https://ja.wikipedia.org/wiki/%E3%82%B7%E3%82%B0%E3%83%A2%E3%82%A4%E3%83%89%E9%96%A2%E6%95%B0"
   ]
  },
  {
   "cell_type": "markdown",
   "metadata": {},
   "source": [
    "# Q2. Logistic Sigmoid をアクティベーション関数として持つ<br>パーセプトロンのモデルについて調べ説明せよ。"
   ]
  },
  {
   "cell_type": "markdown",
   "metadata": {},
   "source": [
    "# A2."
   ]
  },
  {
   "cell_type": "markdown",
   "metadata": {},
   "source": [
    "**パーセプトロンとは：**  \n",
    "- パーセプトロンとは、視覚や脳の機能をモデル化したものでありパターン認識を行うシンプルなネットワーク。\n",
    "- ネットワーク構成としては、(感覚層)入力層 → (連合層)中間層 → (反応層)出力層の3つからなる。  \n",
    "- パターン認識とは、画像・音声などの雑多な情報を含むデータの中から、一定の規則や意味を持つ対象を選別して取り出す処理。  \n",
    "\n",
    "**アクティベーション(活性化)関数とは：**  \n",
    "- 伝達関数という意味でも捉えることができるが、入力層から与えられるデータが線形変換した後に、適用される関数\n",
    "- パーセプトロンでの中間層にあたる。  \n",
    "\n",
    "\n",
    "\n",
    "引用：  \n",
    "https://ja.wikipedia.org/wiki/%E3%83%91%E3%83%BC%E3%82%BB%E3%83%97%E3%83%88%E3%83%AD%E3%83%B3  \n",
    "https://ja.wikipedia.org/wiki/%E3%83%91%E3%82%BF%E3%83%BC%E3%83%B3%E8%AA%8D%E8%AD%98  "
   ]
  },
  {
   "cell_type": "markdown",
   "metadata": {},
   "source": [
    "<img src=\"images/sigmoid_1.png\">"
   ]
  },
  {
   "cell_type": "markdown",
   "metadata": {},
   "source": [
    "# Q3. 0 を false, 1 を true としたとき、論理否定を行う関数を、<br>Logistic Sigmoid をアクティベーション関数として<br>持つパーセプトロンを用いて作成せよ。<br>パーセプトロンのパラメータの調整には平均二乗誤差と最急降下法を用いること。<br><br>また、調整済みのパラメータを保存し、作成した関数を他のプログラムからいつでも利用できるようにせよ。"
   ]
  },
  {
   "cell_type": "markdown",
   "metadata": {},
   "source": [
    "# A3. "
   ]
  },
  {
   "cell_type": "markdown",
   "metadata": {},
   "source": [
    "入力層(式)  \n",
    "$\n",
    "y = wX + b\n",
    "$\n",
    "\n",
    "中間層(シグモイド関数: a=1とする)  \n",
    "$ \n",
    "S = \\frac{1}{1-e^ay}  \n",
    "$\n",
    "\n",
    "誤差関数(平均二乗誤差)  \n",
    "$\n",
    "E(w) = \\frac{1}{2} \\sum_{i} ((\\frac{1}{1-e^-(wX+b)}) -正解値)^2\n",
    "$\n",
    "\n",
    "最急降下法  \n",
    "- 重みを更新  \n",
    "$\n",
    "w^(k+1) = w^(k) - α\\sum_{i}((\\frac{1}{(1-e^-(wX+b))-正解値)(\\frac{1}{1-e^-(wX+b)})}\n",
    "$\n",
    " \n",
    "- バイアスも同様に更新  \n",
    "$\n",
    "b^(k+1) = b^(k) - α\\sum_{i}((\\frac{1}{(1-e^-(wX+b))-正解値)(\\frac{1}{1-e^-(wX+b)})}\n",
    "$"
   ]
  },
  {
   "cell_type": "markdown",
   "metadata": {},
   "source": [
    "<img src=\"images/bias.png\">"
   ]
  },
  {
   "cell_type": "code",
   "execution_count": 2,
   "metadata": {},
   "outputs": [
    {
     "name": "stdout",
     "output_type": "stream",
     "text": [
      "0.5 0.5 0.1\n",
      "w : 0.5,  b : 0.5\n",
      "error: 0.07126847829827546\n",
      "s 0.6224593312018546\n",
      "出力値：0\n",
      "y :  0.5\n",
      "w : 0.47649962877984053,  b : 0.47649962877984053\n",
      "error: 0.07337477042320918\n",
      "s 0.6169209731055244\n",
      "出力値：0\n",
      "y :  0.47649962877984053\n",
      "w : 0.4528666801750348,  b : 0.4528666801750348\n",
      "error: 0.07553583944056384\n",
      "s 0.611320596273577\n",
      "出力値：0\n",
      "y :  0.4528666801750348\n",
      "w : 0.4291059076905053,  b : 0.4291059076905053\n",
      "error: 0.07775195973497\n",
      "s 0.6056601472461349\n",
      "出力値：0\n",
      "y :  0.4291059076905053\n",
      "w : 0.40522231436211276,  b : 0.40522231436211276\n",
      "error: 0.08002331046323667\n",
      "s 0.5999417280864282\n",
      "出力値：0\n",
      "y :  0.40522231436211276\n",
      "w : 0.3812211492634029,  b : 0.3812211492634029\n",
      "error: 0.08234997027405408\n",
      "s 0.5941675954927845\n",
      "出力値：0\n",
      "y :  0.3812211492634029\n",
      "w : 0.35710790286749217,  b : 0.35710790286749217\n",
      "error: 0.08473191232359034\n",
      "s 0.5883401590546138\n",
      "出力値：0\n",
      "y :  0.35710790286749217\n",
      "w : 0.3328883012376716,  b : 0.3328883012376716\n",
      "error: 0.08716899964880453\n",
      "s 0.5824619786203787\n",
      "出力値：0\n",
      "y :  0.3328883012376716\n",
      "w : 0.30856829902947036,  b : 0.30856829902947036\n",
      "error: 0.08966098096038584\n",
      "s 0.5765357607533174\n",
      "出力値：0\n",
      "y :  0.30856829902947036\n",
      "w : 0.28415407129687925,  b : 0.28415407129687925\n",
      "error: 0.09220748691635118\n",
      "s 0.5705643542593345\n",
      "出力値：0\n",
      "y :  0.28415407129687925\n",
      "w : 0.2596520041060829,  b : 0.2596520041060829\n",
      "error: 0.09480802693542953\n",
      "s 0.5645507447809113\n",
      "出力値：0\n",
      "y :  0.2596520041060829\n",
      "w : 0.23506868397125993,  b : 0.23506868397125993\n",
      "error: 0.09746198660638235\n",
      "s 0.5584980484609783\n",
      "出力値：0\n",
      "y :  0.23506868397125993\n",
      "w : 0.21041088613863423,  b : 0.21041088613863423\n",
      "error: 0.10016862574534513\n",
      "s 0.5524095046912968\n",
      "出力値：0\n",
      "y :  0.21041088613863423\n",
      "w : 0.18568556175683293,  b : 0.18568556175683293\n",
      "error: 0.10292707714812356\n",
      "s 0.5462884679708404\n",
      "出力値：0\n",
      "y :  0.18568556175683293\n",
      "w : 0.1608998239835417,  b : 0.1608998239835417\n",
      "error: 0.10573634607817675\n",
      "s 0.5401383989107663\n",
      "出力値：0\n",
      "y :  0.1608998239835417\n",
      "w : 0.13606093309025366,  b : 0.13606093309025366\n",
      "error: 0.1085953105238348\n",
      "s 0.5339628544336089\n",
      "出力値：0\n",
      "y :  0.13606093309025366\n",
      "w : 0.1111762806383815,  b : 0.1111762806383815\n",
      "error: 0.11150272225021393\n",
      "s 0.5277654772251102\n",
      "出力値：0\n",
      "y :  0.1111762806383815\n",
      "w : 0.08625337281093531,  b : 0.08625337281093531\n",
      "error: 0.1144572086624396\n",
      "s 0.5215499845073895\n",
      "出力値：0\n",
      "y :  0.08625337281093531\n",
      "w : 0.061299812994162185,  b : 0.061299812994162185\n",
      "error: 0.11745727548730235\n",
      "s 0.5153201562117476\n",
      "出力値：0\n",
      "y :  0.061299812994162185\n",
      "w : 0.036323283712797416,  b : 0.036323283712797416\n",
      "error: 0.1205013102705323\n",
      "s 0.5090798226380743\n",
      "出力値：0\n",
      "y :  0.036323283712797416\n",
      "w : 0.011331528030711302,  b : 0.011331528030711302\n",
      "error: 0.12358758667666564\n",
      "s 0.5028328516953968\n",
      "出力値：0\n",
      "y :  0.011331528030711302\n",
      "w : -0.013667669464415888,  b : -0.013667669464415888\n",
      "error: 0.1267142695682005\n",
      "s 0.49658313582439356\n",
      "出力値：1\n",
      "調整済みパラメータ {'w': -0.03866650196833644, 'b': -0.03866650196833644}\n"
     ]
    }
   ],
   "source": [
    "from numpy.random import *\n",
    "import pandas as pd\n",
    "import numpy as np\n",
    "import matplotlib.pyplot as plt\n",
    "import math\n",
    "\n",
    "\n",
    "class Neuron:\n",
    "    \n",
    "    def __init__(self, w, b, α):\n",
    "        print(w, b, α)\n",
    "        self._w = w\n",
    "        self._b = b\n",
    "        self._α = α\n",
    "        self._error = None\n",
    "        self._e = math.e  # 自然対数\n",
    "\n",
    "    def Input_layer(self, x):\n",
    "        print(\"w : %s,  b : %s\" % (self._w, self._b))  # 更新パラメータ表示\n",
    "        y = self._w*x + self._b\n",
    "        return y\n",
    "    \n",
    "    def activation_function(self, y):\n",
    "        s = 1 / (1 + self._e**-y)\n",
    "        return s\n",
    "        \n",
    "    def error_function(self, s, answer):\n",
    "        self._error = 0.5*(s - answer)**2\n",
    "        print(\"error: %s\" % self._error)  # 誤差表示\n",
    "        # return self._error\n",
    "        \n",
    "    def parameter_update(self, s):\n",
    "        self._w = self._w - self._α*((1-s)*s)   # シグモイド関数の微分\n",
    "        self._b = self._b - self._α*((1-s)*s)   # シグモイド関数の微分\n",
    "        return self._w, self._b\n",
    "#         self._w = self._w - self._α*(s - 1)*s  # w - α(誤差関数の微分)\n",
    "#         self._b = self._b - self._α*(s - 1)*s  # w - α(誤差関数の微分)\n",
    "        \n",
    "\n",
    "if __name__=='__main__':      \n",
    "    x = [0, 1]  # 入力値 0 or 1を入れる\n",
    "    answer = [1, 0]  # 正解データ\n",
    "    w = 0.5  # 初期値のパラメータ\n",
    "    b = 0.5  # バイアス\n",
    "    α = 0.1  # ハイパーパラメータ(更新の調整項)\n",
    "    adjusted_parameter = {}  # 調整済みパラメータ\n",
    "    \n",
    "    neuron = Neuron(w, b, α)\n",
    "    # 学習開始\n",
    "    for _ in range(1000):\n",
    "        y = neuron.Input_layer(x[0])  # 入力層\n",
    "        s = neuron.activation_function(y)  # 中間層(シグモイド関数)\n",
    "        neuron.error_function(s, answer[0])  # 誤差関数\n",
    "        w, b = neuron.parameter_update(s)  # パラメータ更新\n",
    "        \n",
    "        print(\"s\", s)\n",
    "        if s >= 0.5:  # 中間層yにプラスの値が入ると0.5以上になる\n",
    "            print(\"出力値：0\")\n",
    "            print(\"y : \", y)  # 中間層の値表示\n",
    "        if s < 0.5:  # 中間層yにマイナスの値が入ると0.5未満になる\n",
    "            adjusted_parameter[\"w\"] = w\n",
    "            adjusted_parameter[\"b\"] = b\n",
    "            print(\"出力値：1\")\n",
    "            break\n",
    "     \n",
    "    print(\"調整済みパラメータ\", adjusted_parameter)"
   ]
  },
  {
   "cell_type": "code",
   "execution_count": 28,
   "metadata": {},
   "outputs": [
    {
     "name": "stdout",
     "output_type": "stream",
     "text": [
      "0.5 0.5 0.1\n",
      "w : 0.5,  b : 0.5\n",
      "y[] [0.5 1. ]\n",
      "error: [0.07126848 0.26722332]\n",
      "w, s [0.47649963 0.48033881] [0.47649963 0.48033881]\n",
      "s [0.62245933 0.73105858]\n",
      "w : [0.47649963 0.48033881],  b : [0.47649963 0.48033881]\n",
      "y[] [0.47649963 0.96067761]\n",
      "error: [0.07337477 0.26155067]\n",
      "w, s [0.45286668 0.4603232 ] [0.45286668 0.4603232 ]\n",
      "s [0.61692097 0.72325745]\n",
      "w : [0.45286668 0.4603232 ],  b : [0.45286668 0.4603232 ]\n",
      "y[] [0.45286668 0.92064639]\n",
      "error: [0.07553584 0.25573678]\n",
      "w, s [0.42910591 0.43995317] [0.42910591 0.43995317]\n",
      "s [0.6113206  0.71517379]\n",
      "w : [0.42910591 0.43995317],  b : [0.42910591 0.43995317]\n",
      "y[] [0.42910591 0.87990634]\n",
      "error: [0.07775196 0.24978511]\n",
      "w, s [0.40522231 0.41922991] [0.40522231 0.41922991]\n",
      "s [0.60566015 0.70680281]\n",
      "w : [0.40522231 0.41922991],  b : [0.40522231 0.41922991]\n",
      "y[] [0.40522231 0.83845982]\n",
      "error: [0.08002331 0.24370025]\n",
      "w, s [0.38122115 0.39815589] [0.38122115 0.39815589]\n",
      "s [0.59994173 0.69814074]\n",
      "w : [0.38122115 0.39815589],  b : [0.38122115 0.39815589]\n",
      "y[] [0.38122115 0.79631177]\n",
      "error: [0.08234997 0.23748797]\n",
      "w, s [0.3571079  0.37673498] [0.3571079  0.37673498]\n",
      "s [0.5941676  0.68918498]\n",
      "w : [0.3571079  0.37673498],  b : [0.3571079  0.37673498]\n",
      "y[] [0.3571079  0.75346997]\n",
      "error: [0.08473191 0.23115534]\n",
      "w, s [0.3328883  0.35497262] [0.3328883  0.35497262]\n",
      "s [0.58834016 0.67993432]\n",
      "w : [0.3328883  0.35497262],  b : [0.3328883  0.35497262]\n",
      "y[] [0.3328883  0.70994524]\n",
      "error: [0.087169   0.22471075]\n",
      "w, s [0.3085683  0.33287586] [0.3085683  0.33287586]\n",
      "s [0.58246198 0.67038906]\n",
      "w : [0.3085683  0.33287586],  b : [0.3085683  0.33287586]\n",
      "y[] [0.3085683  0.66575172]\n",
      "error: [0.08966098 0.21816398]\n",
      "w, s [0.28415407 0.31045353] [0.28415407 0.31045353]\n",
      "s [0.57653576 0.66055125]\n",
      "w : [0.28415407 0.31045353],  b : [0.28415407 0.31045353]\n",
      "y[] [0.28415407 0.62090707]\n",
      "error: [0.09220749 0.21152622]\n",
      "w, s [0.259652  0.2877163] [0.259652  0.2877163]\n",
      "s [0.57056435 0.65042482]\n",
      "w : [0.259652  0.2877163],  b : [0.259652  0.2877163]\n",
      "y[] [0.259652   0.57543259]\n",
      "error: [0.09480803 0.20481009]\n",
      "w, s [0.23506868 0.26467674] [0.23506868 0.26467674]\n",
      "s [0.56455074 0.64001577]\n",
      "w : [0.23506868 0.26467674],  b : [0.23506868 0.26467674]\n",
      "y[] [0.23506868 0.52935347]\n",
      "error: [0.09746199 0.19802958]\n",
      "w, s [0.21041089 0.24134942] [0.21041089 0.24134942]\n",
      "s [0.55849805 0.62933231]\n",
      "w : [0.21041089 0.24134942],  b : [0.21041089 0.24134942]\n",
      "y[] [0.21041089 0.48269884]\n",
      "error: [0.10016863 0.19119998]\n",
      "w, s [0.18568556 0.21775092] [0.18568556 0.21775092]\n",
      "s [0.5524095  0.61838496]\n",
      "w : [0.18568556 0.21775092],  b : [0.18568556 0.21775092]\n",
      "y[] [0.18568556 0.43550184]\n",
      "error: [0.10292708 0.18433784]\n",
      "w, s [0.16089982 0.19389982] [0.16089982 0.19389982]\n",
      "s [0.54628847 0.60718669]\n",
      "w : [0.16089982 0.19389982],  b : [0.16089982 0.19389982]\n",
      "y[] [0.16089982 0.38779964]\n",
      "error: [0.10573635 0.17746076]\n",
      "w, s [0.13606093 0.16981668] [0.13606093 0.16981668]\n",
      "s [0.5401384 0.5957529]\n",
      "w : [0.13606093 0.16981668],  b : [0.13606093 0.16981668]\n",
      "y[] [0.13606093 0.33963336]\n",
      "error: [0.10859531 0.17058726]\n",
      "w, s [0.11117628 0.14552399] [0.11117628 0.14552399]\n",
      "s [0.53396285 0.58410146]\n",
      "w : [0.11117628 0.14552399],  b : [0.11117628 0.14552399]\n",
      "y[] [0.11117628 0.29104797]\n",
      "error: [0.11150272 0.16373656]\n",
      "w, s [0.08625337 0.12104603] [0.08625337 0.12104603]\n",
      "s [0.52776548 0.57225267]\n",
      "w : [0.08625337 0.12104603],  b : [0.08625337 0.12104603]\n",
      "y[] [0.08625337 0.24209206]\n",
      "error: [0.11445721 0.15692835]\n",
      "w, s [0.06129981 0.09640879] [0.06129981 0.09640879]\n",
      "s [0.52154998 0.56022914]\n",
      "w : [0.06129981 0.09640879],  b : [0.06129981 0.09640879]\n",
      "y[] [0.06129981 0.19281757]\n",
      "error: [0.11745728 0.15018247]\n",
      "w, s [0.03632328 0.07163972] [0.03632328 0.07163972]\n",
      "s [0.51532016 0.5480556 ]\n",
      "w : [0.03632328 0.07163972],  b : [0.03632328 0.07163972]\n",
      "y[] [0.03632328 0.14327944]\n",
      "error: [0.12050131 0.1435187 ]\n",
      "w, s [0.01133153 0.04676759] [0.01133153 0.04676759]\n",
      "s [0.50907982 0.53575871]\n",
      "w : [0.01133153 0.04676759],  b : [0.01133153 0.04676759]\n",
      "y[] [0.01133153 0.09353518]\n",
      "error: [0.12358759 0.13695638]\n",
      "w, s [-0.01366767  0.02182219] [-0.01366767  0.02182219]\n",
      "s [0.50283285 0.52336676]\n",
      "w : [-0.01366767  0.02182219],  b : [-0.01366767  0.02182219]\n",
      "y[] [-0.01366767  0.04364438]\n",
      "error: [0.12671427 0.13051419]\n",
      "w, s [-0.0386665  -0.00316591] [-0.0386665  -0.00316591]\n",
      "s [0.49658314 0.51090936]\n",
      "出力値：1\n",
      "調整済みパラメータ {}\n"
     ]
    }
   ],
   "source": [
    "from numpy.random import *\n",
    "import pandas as pd\n",
    "import numpy as np\n",
    "import matplotlib.pyplot as plt\n",
    "import math\n",
    "\n",
    "\n",
    "class Neuron:\n",
    "    \n",
    "    def __init__(self, w, b, α):\n",
    "        print(w, b, α)\n",
    "        self._w = w\n",
    "        self._b = b\n",
    "        self._α = α\n",
    "        self._error = None\n",
    "        self._e = math.e  # 自然対数\n",
    "\n",
    "    def Input_layer(self, x):\n",
    "        print(\"w : %s,  b : %s\" % (self._w, self._b))  # 更新パラメータ表示\n",
    "        y = self._w*x + self._b\n",
    "        print(\"y[]\", y)\n",
    "        return y\n",
    "    \n",
    "    def activation_function(self, y):\n",
    "        s = 1 / (1 + self._e**-y)\n",
    "        return s\n",
    "        \n",
    "    def error_function(self, s, answer):\n",
    "        self._error = 0.5*(s - answer)**2\n",
    "        print(\"error: %s\" % self._error)  # 誤差表示\n",
    "        # return self._error\n",
    "        \n",
    "    def parameter_update(self, s):\n",
    "        self._w = self._w - self._α*((1-s)*s)   # シグモイド関数の微分\n",
    "        self._b = self._b - self._α*((1-s)*s)   # シグモイド関数の微分\n",
    "        print(\"w, s\", self._w, self._b)\n",
    "        return self._w, self._b\n",
    "#         self._w = self._w - self._α*(s - 1)*s  # w - α(誤差関数の微分)\n",
    "#         self._b = self._b - self._α*(s - 1)*s  # w - α(誤差関数の微分)\n",
    "        \n",
    "\n",
    "if __name__=='__main__':      \n",
    "    x = np.array([0, 1])  # 入力値 0 or 1を入れる\n",
    "    answer = np.array([1, 0])  # 正解データ\n",
    "    w = 0.5  # 初期値のパラメータ\n",
    "    b = 0.5  # バイアス\n",
    "    α = 0.1  # ハイパーパラメータ(更新の調整項)\n",
    "    adjusted_parameter = {}  # 調整済みパラメータ\n",
    "    \n",
    "    neuron = Neuron(w, b, α)\n",
    "    # 学習開始\n",
    "    for _ in range(1000):\n",
    "        y = neuron.Input_layer(x)  # 入力層\n",
    "        s = neuron.activation_function(y)  # 中間層(シグモイド関数)\n",
    "        neuron.error_function(s, answer)  # 誤差関数\n",
    "        w, b = neuron.parameter_update(s)  # パラメータ更新\n",
    "        \n",
    "        print(\"s\", s)\n",
    "        if s[0] >= 0.5 and s[1] <= 0.5:  # 中間層yにプラスの値が入ると0.5以上になる\n",
    "            print(\"出力値：0\")\n",
    "            print(\"y : \", y)  # 中間層の値表示\n",
    "        if s[0] < 0.5 and s[1] > 0.5:  # 中間層yにマイナスの値が入ると0.5未満になる\n",
    "\n",
    "            print(\"出力値：1\")\n",
    "            break\n",
    "\n",
    "    print(\"調整済みパラメータ\", adjusted_parameter)"
   ]
  },
  {
   "cell_type": "code",
   "execution_count": 49,
   "metadata": {},
   "outputs": [
    {
     "name": "stdout",
     "output_type": "stream",
     "text": [
      "0.00063175310289\n"
     ]
    },
    {
     "data": {
      "text/plain": [
       "0.49963633374483624"
      ]
     },
     "execution_count": 49,
     "metadata": {},
     "output_type": "execute_result"
    }
   ],
   "source": [
    "# 入力値が0 の時\n",
    "y = -0.82366767 *0 - 0.000767\n",
    "print(y)\n",
    "s = 1 / (1 + 0.1**-y)\n",
    "s"
   ]
  },
  {
   "cell_type": "code",
   "execution_count": 35,
   "metadata": {},
   "outputs": [
    {
     "name": "stdout",
     "output_type": "stream",
     "text": [
      "0.0\n"
     ]
    },
    {
     "data": {
      "text/plain": [
       "0.5"
      ]
     },
     "execution_count": 35,
     "metadata": {},
     "output_type": "execute_result"
    }
   ],
   "source": [
    "# 入力値が1の時\n",
    "y = 0.02182219*1 - 0.02182219\n",
    "print(y)\n",
    "s = 1 / (1 + 0.1**-y)\n",
    "s"
   ]
  },
  {
   "cell_type": "code",
   "execution_count": null,
   "metadata": {},
   "outputs": [],
   "source": []
  }
 ],
 "metadata": {
  "kernelspec": {
   "display_name": "Python 3",
   "language": "python",
   "name": "python3"
  },
  "language_info": {
   "codemirror_mode": {
    "name": "ipython",
    "version": 3
   },
   "file_extension": ".py",
   "mimetype": "text/x-python",
   "name": "python",
   "nbconvert_exporter": "python",
   "pygments_lexer": "ipython3",
   "version": "3.7.1"
  }
 },
 "nbformat": 4,
 "nbformat_minor": 2
}
